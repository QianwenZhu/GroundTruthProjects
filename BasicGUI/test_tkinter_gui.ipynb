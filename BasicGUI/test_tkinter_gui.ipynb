{
 "cells": [
  {
   "cell_type": "code",
   "execution_count": 10,
   "metadata": {},
   "outputs": [
    {
     "name": "stdout",
     "output_type": "stream",
     "text": [
      "(64,)\n",
      "(64,)\n"
     ]
    }
   ],
   "source": [
    "import os\n",
    "import Tkinter as tk\n",
    "from PIL import Image, ImageTk\n",
    "from utils import get_jpgs_d0\n",
    "\n",
    "######################\n",
    "# button for change: https://stackoverflow.com/questions/41657449/tkinter-not-changing-image-on-button-press\n",
    "# global variable: https://morvanzhou.github.io/tutorials/python-basic/tkinter/2-01-label-button/\n",
    "# pack layout: https://blog.csdn.net/liuxu0703/article/details/54428405\n",
    "# not Imagetk: sudo apt install python-imaging-tk\n",
    "# pyimage: restart, tk.Toplevel()\n",
    "######################\n",
    "def next_img_r():\n",
    "    global r_dir\n",
    "    global r_idx, l_idx\n",
    "    global ImgH, ImgW\n",
    "    global Ratio\n",
    "    r_idx += 1\n",
    "    Ratio = SrcR\n",
    "    root.r_img = ImageTk.PhotoImage(Image.open(os.path.join(r_dir, r_pths[r_idx])).resize((ImgW, ImgH)))\n",
    "    r_label.configure(image=root.r_img)\n",
    "    b_large.configure(text=str(int(Ratio*100))+'%')\n",
    "    print('updated')\n",
    "    if r_idx == len(r_pths):\n",
    "        print('recycling')\n",
    "        r_idx = 0\n",
    "        \n",
    "def enlarge_img():\n",
    "    global Ratio, Rstep\n",
    "    global PosL, PosU, PosR, PosD\n",
    "    Ratio += Rstep\n",
    "    PosL = (int(SrcW * Ratio) - ImgW) / 2\n",
    "    PosU = (int(SrcH * Ratio) - ImgH) / 2\n",
    "    PosR = PosL + ImgW - 1\n",
    "    PosD = PosU + ImgH - 1\n",
    "    root.r_img = ImageTk.PhotoImage(Image.open(os.path.join(r_dir, r_pths[r_idx])).\n",
    "                                    resize((int(SrcW * Ratio), int(SrcH * Ratio))).crop((PosL, PosU, PosR, PosD)))\n",
    "    r_label.configure(image=root.r_img)\n",
    "    b_large.configure(text=str(int(Ratio*100))+'%')\n",
    "    print('enlarge')\n",
    "    \n",
    "root = tk.Tk()\n",
    "\n",
    "\n",
    "# s0:\n",
    "l_dir = '/media/gait/DATA/04data/01competitions/00pins/02calib/(2)'\n",
    "l_pths = ['000.jpg']\n",
    "l_idx = 0\n",
    "\n",
    "r_dir = '/media/gait/DATA/04data/01competitions/00pins/00train/(2)'\n",
    "r_pths = get_jpgs_d0(r_dir)\n",
    "r_idx = 0\n",
    "\n",
    "SrcW, SrcH = 1920, 1080\n",
    "SrcR = 0.4\n",
    "ImgW, ImgH = int(SrcW * SrcR), int(SrcH * SrcR)\n",
    "PosL, PosU, PosR, PosD = 0, 0, ImgW-1, ImgH-1\n",
    "Ratio = SrcR\n",
    "Rstep = 0.2\n",
    "\n",
    "\n",
    "\n",
    "# s1: add the left and right label\n",
    "root.l_img = ImageTk.PhotoImage(Image.open(os.path.join(l_dir, l_pths[l_idx])).resize((ImgW, ImgH)))\n",
    "l_label = tk.Label(root, image=root.l_img)\n",
    "l_label.pack(side=tk.LEFT)\n",
    "\n",
    "root.r_img = ImageTk.PhotoImage(Image.open(os.path.join(r_dir, r_pths[r_idx])).resize((ImgW, ImgH)))\n",
    "r_label = tk.Label(root, image=root.r_img)\n",
    "r_label.pack(side=tk.LEFT)\n",
    "\n",
    "# s2: add buttons\n",
    "b_next = tk.Button(root, text=\"Next\", command=next_img_r)\n",
    "b_next.pack()\n",
    "\n",
    "b_large = tk.Button(root, text=str(int(Ratio*100))+'%', command=enlarge_img)\n",
    "b_large.pack()\n",
    "\n",
    "root.mainloop()"
   ]
  },
  {
   "cell_type": "code",
   "execution_count": 1,
   "metadata": {},
   "outputs": [
    {
     "name": "stdout",
     "output_type": "stream",
     "text": [
      "10\n"
     ]
    }
   ],
   "source": []
  },
  {
   "cell_type": "code",
   "execution_count": null,
   "metadata": {
    "collapsed": true
   },
   "outputs": [],
   "source": []
  }
 ],
 "metadata": {
  "kernelspec": {
   "display_name": "Python 2",
   "language": "python",
   "name": "python2"
  },
  "language_info": {
   "codemirror_mode": {
    "name": "ipython",
    "version": 2
   },
   "file_extension": ".py",
   "mimetype": "text/x-python",
   "name": "python",
   "nbconvert_exporter": "python",
   "pygments_lexer": "ipython2",
   "version": "2.7.12"
  }
 },
 "nbformat": 4,
 "nbformat_minor": 2
}
