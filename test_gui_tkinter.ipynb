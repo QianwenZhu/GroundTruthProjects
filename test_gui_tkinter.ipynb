import os
import Tkinter as tk
from PIL import Image, ImageTk
from utils import get_jpgs_d0

######################
# button for change: https://stackoverflow.com/questions/41657449/tkinter-not-changing-image-on-button-press
# global variable: https://morvanzhou.github.io/tutorials/python-basic/tkinter/2-01-label-button/
# pack layout: https://blog.csdn.net/liuxu0703/article/details/54428405
# not Imagetk: sudo apt install python-imaging-tk
# pyimage: restart, tk.Toplevel()
######################
def next_img_r():
    global r_dir
    global r_idx, l_idx
    global ImgH, ImgW
    global Ratio
    r_idx += 1
    Ratio = SrcR
    root.r_img = ImageTk.PhotoImage(Image.open(os.path.join(r_dir, r_pths[r_idx])).resize((ImgW, ImgH)))
    r_label.configure(image=root.r_img)
    b_large.configure(text=str(int(Ratio*100))+'%')
    print('updated')
    if r_idx == len(r_pths):
        print('recycling')
        r_idx = 0
        
def enlarge_img():
    global Ratio, Rstep
    global PosL, PosU, PosR, PosD
    Ratio += Rstep
    PosL = (int(SrcW * Ratio) - ImgW) / 2
    PosU = (int(SrcH * Ratio) - ImgH) / 2
    PosR = PosL + ImgW - 1
    PosD = PosU + ImgH - 1
    root.r_img = ImageTk.PhotoImage(Image.open(os.path.join(r_dir, r_pths[r_idx])).
                                    resize((int(SrcW * Ratio), int(SrcH * Ratio))).crop((PosL, PosU, PosR, PosD)))
    r_label.configure(image=root.r_img)
    b_large.configure(text=str(int(Ratio*100))+'%')
    print('enlarge')
    
root = tk.Tk()


# s0:
l_dir = '/media/gait/DATA/04data/01competitions/00pins/02calib/(2)'
l_pths = ['000.jpg']
l_idx = 0

r_dir = '/media/gait/DATA/04data/01competitions/00pins/00train/(2)'
r_pths = get_jpgs_d0(r_dir)
r_idx = 0

SrcW, SrcH = 1920, 1080
SrcR = 0.4
ImgW, ImgH = int(SrcW * SrcR), int(SrcH * SrcR)
PosL, PosU, PosR, PosD = 0, 0, ImgW-1, ImgH-1
Ratio = SrcR
Rstep = 0.2



# s1: add the left and right label
root.l_img = ImageTk.PhotoImage(Image.open(os.path.join(l_dir, l_pths[l_idx])).resize((ImgW, ImgH)))
l_label = tk.Label(root, image=root.l_img)
l_label.pack(side=tk.LEFT)

root.r_img = ImageTk.PhotoImage(Image.open(os.path.join(r_dir, r_pths[r_idx])).resize((ImgW, ImgH)))
r_label = tk.Label(root, image=root.r_img)
r_label.pack(side=tk.LEFT)

# s2: add buttons
b_next = tk.Button(root, text="Next", command=next_img_r)
b_next.pack()

b_large = tk.Button(root, text=str(int(Ratio*100))+'%', command=enlarge_img)
b_large.pack()

root.mainloop()
